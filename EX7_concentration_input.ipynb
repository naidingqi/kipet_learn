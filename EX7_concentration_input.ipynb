{
 "cells": [
  {
   "cell_type": "code",
   "execution_count": 6,
   "id": "12813f91",
   "metadata": {},
   "outputs": [],
   "source": [
    "import kipet"
   ]
  },
  {
   "cell_type": "code",
   "execution_count": 11,
   "id": "6382099d",
   "metadata": {
    "scrolled": true
   },
   "outputs": [
    {
     "name": "stdout",
     "output_type": "stream",
     "text": [
      "################################################################################\n",
      "#                                KIPET v. 1.0.7                                #\n",
      "################################################################################\n",
      "\n",
      "# Date: 2023-06-29-16-35-20\n",
      "# File: 1644390564\n",
      "# ReactionModel instance: reaction-1\n",
      "\n",
      "################################################################################\n",
      "#                         ReactionModel - Preparation                          #\n",
      "#                                  reaction-1                                  #\n",
      "################################################################################\n",
      "\n",
      "\n",
      "################################################################################\n",
      "#                              Variance Estimator                              #\n",
      "#                                  reaction-1                                  #\n",
      "################################################################################\n",
      "\n",
      "# Variance Estimator (reaction-1): All variances provided / concentration problem\n",
      "\n",
      "################################################################################\n",
      "#                             Parameter Estimator                              #\n",
      "#                                  reaction-1                                  #\n",
      "################################################################################\n",
      "\n",
      "# Parameter (reaction-1): Generating instance\n",
      "# Parameter Estimator (reaction-1): Initializing model\n"
     ]
    },
    {
     "ename": "ValueError",
     "evalue": "index cannot be a set",
     "output_type": "error",
     "traceback": [
      "\u001b[0;31m---------------------------------------------------------------------------\u001b[0m",
      "\u001b[0;31mValueError\u001b[0m                                Traceback (most recent call last)",
      "Cell \u001b[0;32mIn[11], line 27\u001b[0m\n\u001b[1;32m     24\u001b[0m r1\u001b[38;5;241m.\u001b[39msettings\u001b[38;5;241m.\u001b[39mparameter_estimator\u001b[38;5;241m.\u001b[39mcovairance \u001b[38;5;241m=\u001b[39m \u001b[38;5;124m'\u001b[39m\u001b[38;5;124mk_aug\u001b[39m\u001b[38;5;124m'\u001b[39m\n\u001b[1;32m     26\u001b[0m \u001b[38;5;66;03m# Run KIPET\u001b[39;00m\n\u001b[0;32m---> 27\u001b[0m \u001b[43mr1\u001b[49m\u001b[38;5;241;43m.\u001b[39;49m\u001b[43mrun_opt\u001b[49m\u001b[43m(\u001b[49m\u001b[43m)\u001b[49m  \n\u001b[1;32m     29\u001b[0m \u001b[38;5;66;03m# Display the results\u001b[39;00m\n\u001b[1;32m     30\u001b[0m r1\u001b[38;5;241m.\u001b[39mreport()\n",
      "File \u001b[0;32m~/anaconda3/envs/kipet/lib/python3.10/site-packages/kipet/main_modules/reaction_model.py:2038\u001b[0m, in \u001b[0;36mReactionModel.run_opt\u001b[0;34m(self, variance_only, print_header, solve, no_ve)\u001b[0m\n\u001b[1;32m   2035\u001b[0m     filename \u001b[38;5;241m=\u001b[39m results_dir\u001b[38;5;241m.\u001b[39mjoinpath(\u001b[38;5;124m'\u001b[39m\u001b[38;5;124mlog.txt\u001b[39m\u001b[38;5;124m'\u001b[39m) \n\u001b[1;32m   2037\u001b[0m     \u001b[38;5;28;01mwith\u001b[39;00m Tee(filename):     \n\u001b[0;32m-> 2038\u001b[0m         results \u001b[38;5;241m=\u001b[39m \u001b[38;5;28;43mself\u001b[39;49m\u001b[38;5;241;43m.\u001b[39;49m\u001b[43m_run_opt_core\u001b[49m\u001b[43m(\u001b[49m\u001b[43mvariance_only\u001b[49m\u001b[38;5;241;43m=\u001b[39;49m\u001b[43mvariance_only\u001b[49m\u001b[43m,\u001b[49m\u001b[43m \u001b[49m\u001b[43mprint_header\u001b[49m\u001b[38;5;241;43m=\u001b[39;49m\u001b[43mprint_header\u001b[49m\u001b[43m,\u001b[49m\u001b[43m \u001b[49m\u001b[43msolve\u001b[49m\u001b[38;5;241;43m=\u001b[39;49m\u001b[43msolve\u001b[49m\u001b[43m,\u001b[49m\u001b[43m \u001b[49m\u001b[43mno_ve\u001b[49m\u001b[38;5;241;43m=\u001b[39;49m\u001b[43mno_ve\u001b[49m\u001b[43m)\u001b[49m\n\u001b[1;32m   2040\u001b[0m \u001b[38;5;28;01melse\u001b[39;00m:\n\u001b[1;32m   2041\u001b[0m     results \u001b[38;5;241m=\u001b[39m \u001b[38;5;28mself\u001b[39m\u001b[38;5;241m.\u001b[39m_run_opt_core(variance_only\u001b[38;5;241m=\u001b[39mvariance_only, print_header\u001b[38;5;241m=\u001b[39mprint_header, solve\u001b[38;5;241m=\u001b[39msolve, no_ve\u001b[38;5;241m=\u001b[39mno_ve)\n",
      "File \u001b[0;32m~/anaconda3/envs/kipet/lib/python3.10/site-packages/kipet/main_modules/reaction_model.py:2221\u001b[0m, in \u001b[0;36mReactionModel._run_opt_core\u001b[0;34m(self, variance_only, print_header, solve, no_ve)\u001b[0m\n\u001b[1;32m   2218\u001b[0m         \u001b[38;5;28;01mreturn\u001b[39;00m \u001b[38;5;28mself\u001b[39m\u001b[38;5;241m.\u001b[39mdirect_sigma_dict\n\u001b[1;32m   2220\u001b[0m \u001b[38;5;28;01mif\u001b[39;00m \u001b[38;5;129;01mnot\u001b[39;00m variance_only:\n\u001b[0;32m-> 2221\u001b[0m     \u001b[38;5;28;43mself\u001b[39;49m\u001b[38;5;241;43m.\u001b[39;49m\u001b[43m_pe_set_up\u001b[49m\u001b[43m(\u001b[49m\u001b[43msolve\u001b[49m\u001b[38;5;241;43m=\u001b[39;49m\u001b[43msolve\u001b[49m\u001b[43m)\u001b[49m\n\u001b[1;32m   2223\u001b[0m     \u001b[38;5;28;01mif\u001b[39;00m solve:\n\u001b[1;32m   2224\u001b[0m \n\u001b[1;32m   2225\u001b[0m         \u001b[38;5;66;03m# Save results in the results_dict\u001b[39;00m\n\u001b[1;32m   2226\u001b[0m         \u001b[38;5;28mself\u001b[39m\u001b[38;5;241m.\u001b[39mresults \u001b[38;5;241m=\u001b[39m \u001b[38;5;28mself\u001b[39m\u001b[38;5;241m.\u001b[39mresults_dict[\u001b[38;5;124m'\u001b[39m\u001b[38;5;124mp_estimator\u001b[39m\u001b[38;5;124m'\u001b[39m]\n",
      "File \u001b[0;32m~/anaconda3/envs/kipet/lib/python3.10/site-packages/kipet/main_modules/reaction_model.py:2126\u001b[0m, in \u001b[0;36mReactionModel._pe_set_up\u001b[0;34m(self, solve)\u001b[0m\n\u001b[1;32m   2124\u001b[0m io\u001b[38;5;241m.\u001b[39mprint_margin(\u001b[38;5;124m'\u001b[39m\u001b[38;5;124mParameter Estimator\u001b[39m\u001b[38;5;124m'\u001b[39m, sub_phrase\u001b[38;5;241m=\u001b[39m\u001b[38;5;28mself\u001b[39m\u001b[38;5;241m.\u001b[39mname)\n\u001b[1;32m   2125\u001b[0m \u001b[38;5;28mprint\u001b[39m(\u001b[38;5;124mf\u001b[39m\u001b[38;5;124m'\u001b[39m\u001b[38;5;124m# \u001b[39m\u001b[38;5;132;01m{\u001b[39;00mhead\u001b[38;5;132;01m}\u001b[39;00m\u001b[38;5;124m: Generating instance\u001b[39m\u001b[38;5;124m'\u001b[39m)\n\u001b[0;32m-> 2126\u001b[0m \u001b[38;5;28;43mself\u001b[39;49m\u001b[38;5;241;43m.\u001b[39;49m\u001b[43m_create_estimator\u001b[49m\u001b[43m(\u001b[49m\u001b[43mestimator\u001b[49m\u001b[38;5;241;43m=\u001b[39;49m\u001b[38;5;124;43m'\u001b[39;49m\u001b[38;5;124;43mp_estimator\u001b[39;49m\u001b[38;5;124;43m'\u001b[39;49m\u001b[43m)\u001b[49m\n\u001b[1;32m   2128\u001b[0m \u001b[38;5;28msetattr\u001b[39m(\u001b[38;5;28mself\u001b[39m\u001b[38;5;241m.\u001b[39mp_estimator, \u001b[38;5;124m'\u001b[39m\u001b[38;5;124mncp\u001b[39m\u001b[38;5;124m'\u001b[39m, \u001b[38;5;28mself\u001b[39m\u001b[38;5;241m.\u001b[39msettings\u001b[38;5;241m.\u001b[39mcollocation\u001b[38;5;241m.\u001b[39mncp)\n\u001b[1;32m   2130\u001b[0m variances \u001b[38;5;241m=\u001b[39m {k: v \u001b[38;5;28;01mif\u001b[39;00m v \u001b[38;5;28;01melse\u001b[39;00m \u001b[38;5;241m1\u001b[39m \u001b[38;5;28;01mfor\u001b[39;00m k, v \u001b[38;5;129;01min\u001b[39;00m \u001b[38;5;28mself\u001b[39m\u001b[38;5;241m.\u001b[39mcomponents\u001b[38;5;241m.\u001b[39mvariances\u001b[38;5;241m.\u001b[39mitems()}\n",
      "File \u001b[0;32m~/anaconda3/envs/kipet/lib/python3.10/site-packages/kipet/main_modules/reaction_model.py:1921\u001b[0m, in \u001b[0;36mReactionModel._create_estimator\u001b[0;34m(self, estimator)\u001b[0m\n\u001b[1;32m   1917\u001b[0m         \u001b[38;5;28mself\u001b[39m\u001b[38;5;241m.\u001b[39mp_model\u001b[38;5;241m.\u001b[39mP[param\u001b[38;5;241m.\u001b[39mname]\u001b[38;5;241m.\u001b[39mset_value(param\u001b[38;5;241m.\u001b[39mvalue)\n\u001b[1;32m   1920\u001b[0m \u001b[38;5;28;01melse\u001b[39;00m:\n\u001b[0;32m-> 1921\u001b[0m     \u001b[38;5;28;43mself\u001b[39;49m\u001b[38;5;241;43m.\u001b[39;49m\u001b[43m_model_sim\u001b[49m\u001b[43m(\u001b[49m\u001b[43mestimator\u001b[49m\u001b[43m)\u001b[49m\n\u001b[1;32m   1923\u001b[0m \u001b[38;5;66;03m# Rewrite this such that the only object passed is the reaction model\u001b[39;00m\n\u001b[1;32m   1924\u001b[0m \u001b[38;5;28msetattr\u001b[39m(\u001b[38;5;28mself\u001b[39m, estimator, Estimator(\u001b[38;5;28mself\u001b[39m, \u001b[38;5;124m'\u001b[39m\u001b[38;5;124mp_model\u001b[39m\u001b[38;5;124m'\u001b[39m))\n",
      "File \u001b[0;32m~/anaconda3/envs/kipet/lib/python3.10/site-packages/kipet/main_modules/reaction_model.py:1574\u001b[0m, in \u001b[0;36mReactionModel._model_sim\u001b[0;34m(self, estimator)\u001b[0m\n\u001b[1;32m   1570\u001b[0m \u001b[38;5;28;01mif\u001b[39;00m dis_method \u001b[38;5;241m==\u001b[39m \u001b[38;5;124m'\u001b[39m\u001b[38;5;124mfe\u001b[39m\u001b[38;5;124m'\u001b[39m:\n\u001b[1;32m   1571\u001b[0m      simulation_class \u001b[38;5;241m=\u001b[39m FEInit\n\u001b[1;32m   1573\u001b[0m \u001b[38;5;28msetattr\u001b[39m(\u001b[38;5;28mself\u001b[39m, model_name, \n\u001b[0;32m-> 1574\u001b[0m         \u001b[38;5;28;43mself\u001b[39;49m\u001b[38;5;241;43m.\u001b[39;49m\u001b[43m_create_pyomo_model\u001b[49m\u001b[43m(\u001b[49m\n\u001b[1;32m   1575\u001b[0m \u001b[43m            \u001b[49m\u001b[43mestimator\u001b[49m\u001b[38;5;241;43m=\u001b[39;49m\u001b[43mestimator\u001b[49m\u001b[43m,\u001b[49m\u001b[43m \u001b[49m\n\u001b[1;32m   1576\u001b[0m \u001b[43m            \u001b[49m\u001b[43mis_simulation\u001b[49m\u001b[38;5;241;43m=\u001b[39;49m\u001b[43m \u001b[49m\u001b[43mestimator\u001b[49m\u001b[43m \u001b[49m\u001b[38;5;241;43m==\u001b[39;49m\u001b[43m \u001b[49m\u001b[38;5;124;43m'\u001b[39;49m\u001b[38;5;124;43msimulator\u001b[39;49m\u001b[38;5;124;43m'\u001b[39;49m\u001b[43m,\u001b[49m\u001b[43m \u001b[49m\n\u001b[1;32m   1577\u001b[0m \u001b[43m            \u001b[49m\u001b[43mignore_model\u001b[49m\u001b[38;5;241;43m=\u001b[39;49m\u001b[38;5;28;43;01mTrue\u001b[39;49;00m\u001b[43m)\u001b[49m\n\u001b[1;32m   1578\u001b[0m         )\n\u001b[1;32m   1579\u001b[0m model \u001b[38;5;241m=\u001b[39m \u001b[38;5;28mgetattr\u001b[39m(\u001b[38;5;28mself\u001b[39m, model_name)\n\u001b[1;32m   1580\u001b[0m vars_fixed \u001b[38;5;241m=\u001b[39m []\n",
      "File \u001b[0;32m~/anaconda3/envs/kipet/lib/python3.10/site-packages/kipet/main_modules/reaction_model.py:1356\u001b[0m, in \u001b[0;36mReactionModel._create_pyomo_model\u001b[0;34m(self, *args, **kwargs)\u001b[0m\n\u001b[1;32m   1352\u001b[0m     kwargs[\u001b[38;5;124m'\u001b[39m\u001b[38;5;124mestimator\u001b[39m\u001b[38;5;124m'\u001b[39m] \u001b[38;5;241m=\u001b[39m \u001b[38;5;124m'\u001b[39m\u001b[38;5;124msimulator\u001b[39m\u001b[38;5;124m'\u001b[39m\n\u001b[1;32m   1354\u001b[0m skip_non_abs \u001b[38;5;241m=\u001b[39m kwargs\u001b[38;5;241m.\u001b[39mpop(\u001b[38;5;124m'\u001b[39m\u001b[38;5;124mskip_non_abs\u001b[39m\u001b[38;5;124m'\u001b[39m, \u001b[38;5;28;01mFalse\u001b[39;00m)\n\u001b[0;32m-> 1356\u001b[0m \u001b[38;5;28;43mself\u001b[39;49m\u001b[38;5;241;43m.\u001b[39;49m\u001b[43m_populate_template\u001b[49m\u001b[43m(\u001b[49m\u001b[38;5;241;43m*\u001b[39;49m\u001b[43margs\u001b[49m\u001b[43m,\u001b[49m\u001b[43m \u001b[49m\u001b[38;5;241;43m*\u001b[39;49m\u001b[38;5;241;43m*\u001b[39;49m\u001b[43mkwargs\u001b[49m\u001b[43m)\u001b[49m\n\u001b[1;32m   1357\u001b[0m \u001b[38;5;28mself\u001b[39m\u001b[38;5;241m.\u001b[39m_make_c_dict()\n\u001b[1;32m   1358\u001b[0m \u001b[38;5;28msetattr\u001b[39m(\u001b[38;5;28mself\u001b[39m\u001b[38;5;241m.\u001b[39m_builder, \u001b[38;5;124m'\u001b[39m\u001b[38;5;124mc_mod\u001b[39m\u001b[38;5;124m'\u001b[39m, \u001b[38;5;28mself\u001b[39m\u001b[38;5;241m.\u001b[39mc)\n",
      "File \u001b[0;32m~/anaconda3/envs/kipet/lib/python3.10/site-packages/kipet/main_modules/reaction_model.py:1245\u001b[0m, in \u001b[0;36mReactionModel._populate_template\u001b[0;34m(self, *args, **kwargs)\u001b[0m\n\u001b[1;32m   1243\u001b[0m \u001b[38;5;28;01mif\u001b[39;00m with_data:\n\u001b[1;32m   1244\u001b[0m     \u001b[38;5;28;01mif\u001b[39;00m \u001b[38;5;28mlen\u001b[39m(\u001b[38;5;28mself\u001b[39m\u001b[38;5;241m.\u001b[39mdatasets) \u001b[38;5;241m>\u001b[39m \u001b[38;5;241m0\u001b[39m \u001b[38;5;129;01mor\u001b[39;00m \u001b[38;5;28mself\u001b[39m\u001b[38;5;241m.\u001b[39mspectra \u001b[38;5;129;01mis\u001b[39;00m \u001b[38;5;129;01mnot\u001b[39;00m \u001b[38;5;28;01mNone\u001b[39;00m:\n\u001b[0;32m-> 1245\u001b[0m         \u001b[38;5;28;43mself\u001b[39;49m\u001b[38;5;241;43m.\u001b[39;49m\u001b[43m_builder\u001b[49m\u001b[38;5;241;43m.\u001b[39;49m\u001b[43minput_data\u001b[49m\u001b[43m(\u001b[49m\u001b[38;5;28;43mself\u001b[39;49m\u001b[38;5;241;43m.\u001b[39;49m\u001b[43mdatasets\u001b[49m\u001b[43m,\u001b[49m\u001b[43m \u001b[49m\u001b[38;5;28;43mself\u001b[39;49m\u001b[38;5;241;43m.\u001b[39;49m\u001b[43mspectra\u001b[49m\u001b[43m)\u001b[49m\n\u001b[1;32m   1246\u001b[0m         \u001b[38;5;28mself\u001b[39m\u001b[38;5;241m.\u001b[39m_allow_optimization \u001b[38;5;241m=\u001b[39m \u001b[38;5;28;01mTrue\u001b[39;00m\n\u001b[1;32m   1247\u001b[0m     \u001b[38;5;28;01melif\u001b[39;00m \u001b[38;5;28mlen\u001b[39m(\u001b[38;5;28mself\u001b[39m\u001b[38;5;241m.\u001b[39mdatasets) \u001b[38;5;241m==\u001b[39m \u001b[38;5;241m0\u001b[39m \u001b[38;5;129;01mand\u001b[39;00m \u001b[38;5;28mself\u001b[39m\u001b[38;5;241m.\u001b[39mspectra \u001b[38;5;129;01mis\u001b[39;00m \u001b[38;5;28;01mNone\u001b[39;00m:\n",
      "File \u001b[0;32m~/anaconda3/envs/kipet/lib/python3.10/site-packages/kipet/model_tools/template_builder.py:224\u001b[0m, in \u001b[0;36mTemplateBuilder.input_data\u001b[0;34m(self, data_block_dict, spectral_data)\u001b[0m\n\u001b[1;32m    222\u001b[0m                         data_frame \u001b[38;5;241m*\u001b[39m\u001b[38;5;241m=\u001b[39m comp\u001b[38;5;241m.\u001b[39mconversion_factor\n\u001b[1;32m    223\u001b[0m                     \u001b[38;5;66;03m# data_frame.index = data_frame.index*time_conversion_factor\u001b[39;00m\n\u001b[0;32m--> 224\u001b[0m                     \u001b[38;5;28;43mself\u001b[39;49m\u001b[38;5;241;43m.\u001b[39;49m\u001b[43m_add_state_data\u001b[49m\u001b[43m(\u001b[49m\u001b[43mdata_frame\u001b[49m\u001b[43m,\u001b[49m\u001b[43m \u001b[49m\u001b[43mdata_label\u001b[49m\u001b[43m,\u001b[49m\u001b[43m \u001b[49m\u001b[43moverwrite\u001b[49m\u001b[38;5;241;43m=\u001b[39;49m\u001b[38;5;28;43;01mFalse\u001b[39;49;00m\u001b[43m)\u001b[49m\n\u001b[1;32m    226\u001b[0m \u001b[38;5;66;03m# Spectral data is handled differently\u001b[39;00m\n\u001b[1;32m    227\u001b[0m \u001b[38;5;28;01mif\u001b[39;00m spectral_data \u001b[38;5;129;01mis\u001b[39;00m \u001b[38;5;129;01mnot\u001b[39;00m \u001b[38;5;28;01mNone\u001b[39;00m:\n",
      "File \u001b[0;32m~/anaconda3/envs/kipet/lib/python3.10/site-packages/kipet/model_tools/template_builder.py:298\u001b[0m, in \u001b[0;36mTemplateBuilder._add_state_data\u001b[0;34m(self, data, data_type, label, overwrite)\u001b[0m\n\u001b[1;32m    295\u001b[0m     data \u001b[38;5;241m=\u001b[39m pd\u001b[38;5;241m.\u001b[39mDataFrame(data)\n\u001b[1;32m    297\u001b[0m \u001b[38;5;28;01mif\u001b[39;00m \u001b[38;5;28misinstance\u001b[39m(data, pd\u001b[38;5;241m.\u001b[39mDataFrame):\n\u001b[0;32m--> 298\u001b[0m     dfc \u001b[38;5;241m=\u001b[39m \u001b[43mpd\u001b[49m\u001b[38;5;241;43m.\u001b[39;49m\u001b[43mDataFrame\u001b[49m\u001b[43m(\u001b[49m\u001b[43mindex\u001b[49m\u001b[38;5;241;43m=\u001b[39;49m\u001b[38;5;28;43mself\u001b[39;49m\u001b[38;5;241;43m.\u001b[39;49m\u001b[43m_feed_times\u001b[49m\u001b[43m,\u001b[49m\u001b[43m \u001b[49m\u001b[43mcolumns\u001b[49m\u001b[38;5;241;43m=\u001b[39;49m\u001b[43mdata\u001b[49m\u001b[38;5;241;43m.\u001b[39;49m\u001b[43mcolumns\u001b[49m\u001b[43m)\u001b[49m\n\u001b[1;32m    299\u001b[0m     \u001b[38;5;28;01mfor\u001b[39;00m t \u001b[38;5;129;01min\u001b[39;00m \u001b[38;5;28mself\u001b[39m\u001b[38;5;241m.\u001b[39m_feed_times:\n\u001b[1;32m    300\u001b[0m         \u001b[38;5;28;01mif\u001b[39;00m t \u001b[38;5;129;01mnot\u001b[39;00m \u001b[38;5;129;01min\u001b[39;00m data\u001b[38;5;241m.\u001b[39mindex:\n",
      "File \u001b[0;32m~/anaconda3/envs/kipet/lib/python3.10/site-packages/pandas/core/frame.py:638\u001b[0m, in \u001b[0;36mDataFrame.__init__\u001b[0;34m(self, data, index, columns, dtype, copy)\u001b[0m\n\u001b[1;32m    636\u001b[0m \u001b[38;5;66;03m# GH47215\u001b[39;00m\n\u001b[1;32m    637\u001b[0m \u001b[38;5;28;01mif\u001b[39;00m index \u001b[38;5;129;01mis\u001b[39;00m \u001b[38;5;129;01mnot\u001b[39;00m \u001b[38;5;28;01mNone\u001b[39;00m \u001b[38;5;129;01mand\u001b[39;00m \u001b[38;5;28misinstance\u001b[39m(index, \u001b[38;5;28mset\u001b[39m):\n\u001b[0;32m--> 638\u001b[0m     \u001b[38;5;28;01mraise\u001b[39;00m \u001b[38;5;167;01mValueError\u001b[39;00m(\u001b[38;5;124m\"\u001b[39m\u001b[38;5;124mindex cannot be a set\u001b[39m\u001b[38;5;124m\"\u001b[39m)\n\u001b[1;32m    639\u001b[0m \u001b[38;5;28;01mif\u001b[39;00m columns \u001b[38;5;129;01mis\u001b[39;00m \u001b[38;5;129;01mnot\u001b[39;00m \u001b[38;5;28;01mNone\u001b[39;00m \u001b[38;5;129;01mand\u001b[39;00m \u001b[38;5;28misinstance\u001b[39m(columns, \u001b[38;5;28mset\u001b[39m):\n\u001b[1;32m    640\u001b[0m     \u001b[38;5;28;01mraise\u001b[39;00m \u001b[38;5;167;01mValueError\u001b[39;00m(\u001b[38;5;124m\"\u001b[39m\u001b[38;5;124mcolumns cannot be a set\u001b[39m\u001b[38;5;124m\"\u001b[39m)\n",
      "\u001b[0;31mValueError\u001b[0m: index cannot be a set"
     ]
    }
   ],
   "source": [
    "r1 = kipet.ReactionModel('reaction-1')   \n",
    " \n",
    "# Add the model parameters\n",
    "k1 = r1.parameter('k1', value=2.0, bounds=(0.0, 5.0), fixed=False)\n",
    "k2 = r1.parameter('k2', value=0.2, bounds=(0.0, 2.0), fixed=False)\n",
    "    \n",
    "# Declare the components and give the initial values\n",
    "A = r1.component('A', value=0.001, variance=1e-10, known=False, bounds=(0.0, 3))\n",
    "B = r1.component('B', value=0.0, variance=1e-11)\n",
    "C = r1.component('C', value=0.0, variance=1e-8)\n",
    "   \n",
    "# Use this function to replace the old filename set-up\n",
    "filename = 'data/Ex_1_C_data.txt'\n",
    "full_data = kipet.read_data(filename)\n",
    "r1.add_data(data=full_data.iloc[::10, :], remove_negatives=True)   \n",
    "    \n",
    "# Define the reaction model\n",
    "r1.add_ode('A', -k1 * A )\n",
    "r1.add_ode('B', k1 * A - k2 * B )\n",
    "r1.add_ode('C', k2 * B )\n",
    "    \n",
    "# Settings\n",
    "r1.settings.collocation.nfe = 60\n",
    "r1.settings.parameter_estimator.covairance = 'k_aug'\n",
    "    \n",
    "# Run KIPET\n",
    "r1.run_opt()  \n",
    "\n",
    "# Display the results\n",
    "r1.report()"
   ]
  },
  {
   "cell_type": "code",
   "execution_count": null,
   "id": "967a51d1",
   "metadata": {},
   "outputs": [],
   "source": []
  }
 ],
 "metadata": {
  "kernelspec": {
   "display_name": "Python [conda env:anaconda3-kipet]",
   "language": "python",
   "name": "conda-env-anaconda3-kipet-py"
  },
  "language_info": {
   "codemirror_mode": {
    "name": "ipython",
    "version": 3
   },
   "file_extension": ".py",
   "mimetype": "text/x-python",
   "name": "python",
   "nbconvert_exporter": "python",
   "pygments_lexer": "ipython3",
   "version": "3.10.11"
  }
 },
 "nbformat": 4,
 "nbformat_minor": 5
}
